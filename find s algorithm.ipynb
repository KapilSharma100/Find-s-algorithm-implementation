{
 "cells": [
  {
   "cell_type": "code",
   "execution_count": 3,
   "id": "f5869c60",
   "metadata": {},
   "outputs": [
    {
     "name": "stdout",
     "output_type": "stream",
     "text": [
      "\n",
      "Initial value of hypothesis:\n",
      "\n",
      "['0', '0', '0', '0', '0', '0']\n",
      "\n",
      "Final value of hypothesis is:\n",
      "\n",
      "['sunny', 'warm', '?', 'strong', '?', '?']\n"
     ]
    }
   ],
   "source": [
    "import pandas as pd\n",
    "header=['sky','airtemp','humidity','wind','water','forecast','enjoysport']\n",
    "data=[['sunny','warm','normal','strong','warm','same','yes'],\n",
    "     ['sunny','warm','high','strong','warm','same','yes'],\n",
    "     ['rainy','cold','high','strong','warm','change','no'],\n",
    "     ['sunny','warm','high','strong','cool','change','yes']]\n",
    "data=pd.DataFrame(data,columns=header)\n",
    "data.to_csv('forcast',index=False)\n",
    "data=pd.read_csv('forcast')\n",
    "n=len(header)\n",
    "print(\"\\nInitial value of hypothesis:\\n\")\n",
    "h=[\"0\"]*(n-1)\n",
    "print(h)\n",
    "for i in range(0,len(data)):\n",
    "    if data.iloc[i,n-1]=='yes':\n",
    "        for j in range(0,n-1):\n",
    "            if h[j]==\"0\":\n",
    "                h[j]=data.iloc[i,j]\n",
    "            elif h[j]==data.iloc[i,j] or  h[j]==\"?\":\n",
    "                continue\n",
    "            else:\n",
    "                h[j]=\"?\"\n",
    "print(\"\\nFinal value of hypothesis is:\\n\")\n",
    "print(h)    "
   ]
  },
  {
   "cell_type": "code",
   "execution_count": 68,
   "id": "5271d171",
   "metadata": {},
   "outputs": [
    {
     "name": "stdout",
     "output_type": "stream",
     "text": [
      "no\n"
     ]
    }
   ],
   "source": [
    "sample=['sunny','warm','low','low','warm','change']\n",
    "c=count=0\n",
    "for i in h:\n",
    "    if i==\"?\":\n",
    "        c=c+1\n",
    "            \n",
    "for i in range(0, n-1):\n",
    "    if h[i]!=\"?\" and h[i]==sample[i]:\n",
    "       count=count+1\n",
    "if count==c:\n",
    "    print(\"yes\")\n",
    "else :print(\"no\")"
   ]
  },
  {
   "cell_type": "code",
   "execution_count": 21,
   "id": "d839967c",
   "metadata": {},
   "outputs": [
    {
     "name": "stdout",
     "output_type": "stream",
     "text": [
      "     Customer_ID  Gender  Age  Salary  Purchased\n",
      "0              1    Male   35     500          0\n",
      "1              2  Female   25  300000          1\n",
      "2              3  Female  100  200000          0\n",
      "3       15566689  Female   35   57000          0\n",
      "4       15569641  Female   58   95000          1\n",
      "..           ...     ...  ...     ...        ...\n",
      "398     15813113    Male   40  107000          1\n",
      "399     15814004    Male   27   20000          0\n",
      "400     15814553    Male   57   60000          1\n",
      "401     15814816    Male   31   66000          0\n",
      "402     15815236  Female   45  131000          1\n",
      "\n",
      "[403 rows x 5 columns]\n",
      "\n",
      "initial value of hypothesis:\n",
      "\n",
      "['0', '0', '0', '0']\n",
      "\n",
      "Final value of hypothesis is:\n",
      "\n",
      "['?', '?', '?', '?']\n"
     ]
    }
   ],
   "source": [
    "import pandas as pd\n",
    "data=pd.read_csv('https://github.com/YBI-Foundation/Dataset/raw/main/Online%20Purchase.csv')\n",
    "print(data)\n",
    "n=5\n",
    "print(\"\\ninitial value of hypothesis:\\n\")\n",
    "h=[\"0\"]*(n-1)\n",
    "print(h)\n",
    "for i in range(0,len(data)):\n",
    "    if data.iloc[i,n-1]==1:\n",
    "        for j in range(0,n-1):\n",
    "            if h[j]==\"0\":\n",
    "                h[j]=data.iloc[i,j]\n",
    "            elif h[j]==data.iloc[i,j] or  h[j]==\"?\":\n",
    "                continue\n",
    "            else:\n",
    "                h[j]=\"?\"\n",
    "print(\"\\nFinal value of hypothesis is:\\n\")\n",
    "print(h)    "
   ]
  },
  {
   "cell_type": "code",
   "execution_count": 5,
   "id": "18b4e45f",
   "metadata": {},
   "outputs": [
    {
     "name": "stdout",
     "output_type": "stream",
     "text": [
      "Initial value of hypothesis:\n",
      "['0', '0', '0', '0']\n",
      "Intermediate value of hypothesis:\n",
      "['0', '0', '0', '0']\n",
      "['GREEN', 'HARD', 'NO', 'WRINKELD']\n",
      "['?', 'HARD', 'NO', 'WRINKELD']\n",
      "['?', '?', '?', '?']\n",
      "['?', '?', '?', '?']\n",
      "Final value of hypothesis is:\n",
      "['?', '?', '?', '?']\n"
     ]
    }
   ],
   "source": [
    "import pandas as pd\n",
    "header=['COLOR','TOUGHNESS','FUNGUS','APPEARANCE','POISONOUS']\n",
    "data=[['GREEN','HARD','NO','WRINKELD','YES'],\n",
    "     ['GREEN','HARD','YES','SMOOTH','NO'],\n",
    "     ['BROWN','SOFT','NO','WRINKELD','NO'],\n",
    "     ['ORANGE','HARD','NO','WRINKELD','YES'],\n",
    "     ['GREEN','SOFT','YES','SMOOTH','YES'],\n",
    "     ['GREEN','HARD','YES','WRINKELD','YES'],\n",
    "     ['ORANGE','HARD','NO','WRINKELD','YES']]\n",
    "data=pd.DataFrame(data,columns=header)\n",
    "data.to_csv('forcast',index=False)\n",
    "data=pd.read_csv('forcast')\n",
    "n=len(header)\n",
    "print(\"Initial value of hypothesis:\")\n",
    "h=[\"0\"]*(n-1)\n",
    "print(h)\n",
    "print(\"Intermediate value of hypothesis:\")\n",
    "for i in range(0,len(data)):\n",
    "    if data.iloc[i,n-1]=='YES':\n",
    "        print(h)\n",
    "        for j in range(0,n-1):\n",
    "            if h[j]==\"0\":\n",
    "                h[j]=data.iloc[i,j]\n",
    "            elif h[j]==data.iloc[i,j] or  h[j]==\"?\":\n",
    "                continue\n",
    "            else:\n",
    "                h[j]=\"?\"\n",
    "print(\"Final value of hypothesis is:\")\n",
    "print(h) "
   ]
  }
 ],
 "metadata": {
  "kernelspec": {
   "display_name": "Python 3 (ipykernel)",
   "language": "python",
   "name": "python3"
  },
  "language_info": {
   "codemirror_mode": {
    "name": "ipython",
    "version": 3
   },
   "file_extension": ".py",
   "mimetype": "text/x-python",
   "name": "python",
   "nbconvert_exporter": "python",
   "pygments_lexer": "ipython3",
   "version": "3.11.5"
  }
 },
 "nbformat": 4,
 "nbformat_minor": 5
}
